{
 "cells": [
  {
   "cell_type": "markdown",
   "id": "c5c21aa5",
   "metadata": {},
   "source": [
    "# Linear Regression"
   ]
  },
  {
   "cell_type": "code",
   "execution_count": 1,
   "id": "4968dfb3",
   "metadata": {},
   "outputs": [],
   "source": [
    "import numpy as np\n",
    "import pandas as pd\n",
    "import matplotlib.pyplot as plt\n",
    "import seaborn as sns"
   ]
  },
  {
   "cell_type": "code",
   "execution_count": 2,
   "id": "e4ad074e",
   "metadata": {},
   "outputs": [
    {
     "name": "stdout",
     "output_type": "stream",
     "text": [
      "    x          y\n",
      "0  77  79.775152\n",
      "1  21  23.177279\n",
      "2  22  25.609262\n",
      "3  20  17.857388\n",
      "4  36  41.849864\n",
      "(300, 2)\n"
     ]
    },
    {
     "data": {
      "text/plain": [
       "0    79.775152\n",
       "1    23.177279\n",
       "2    25.609262\n",
       "3    17.857388\n",
       "4    41.849864\n",
       "Name: y, dtype: float64"
      ]
     },
     "execution_count": 2,
     "metadata": {},
     "output_type": "execute_result"
    }
   ],
   "source": [
    "data = pd.read_csv('test_LR.csv')\n",
    "print(data.head())\n",
    "print(data.shape)\n",
    "data['y'].head()"
   ]
  },
  {
   "cell_type": "markdown",
   "id": "73688a95",
   "metadata": {},
   "source": [
    "## Explore and plot the data"
   ]
  },
  {
   "cell_type": "code",
   "execution_count": 3,
   "id": "3bf1f7c4",
   "metadata": {},
   "outputs": [
    {
     "name": "stdout",
     "output_type": "stream",
     "text": [
      "x    50.936667\n",
      "y    51.205051\n",
      "dtype: float64\n"
     ]
    },
    {
     "data": {
      "text/html": [
       "<div>\n",
       "<style scoped>\n",
       "    .dataframe tbody tr th:only-of-type {\n",
       "        vertical-align: middle;\n",
       "    }\n",
       "\n",
       "    .dataframe tbody tr th {\n",
       "        vertical-align: top;\n",
       "    }\n",
       "\n",
       "    .dataframe thead th {\n",
       "        text-align: right;\n",
       "    }\n",
       "</style>\n",
       "<table border=\"1\" class=\"dataframe\">\n",
       "  <thead>\n",
       "    <tr style=\"text-align: right;\">\n",
       "      <th></th>\n",
       "      <th>x</th>\n",
       "      <th>y</th>\n",
       "    </tr>\n",
       "  </thead>\n",
       "  <tbody>\n",
       "    <tr>\n",
       "      <th>count</th>\n",
       "      <td>300.000000</td>\n",
       "      <td>300.000000</td>\n",
       "    </tr>\n",
       "    <tr>\n",
       "      <th>mean</th>\n",
       "      <td>50.936667</td>\n",
       "      <td>51.205051</td>\n",
       "    </tr>\n",
       "    <tr>\n",
       "      <th>std</th>\n",
       "      <td>28.504286</td>\n",
       "      <td>29.071481</td>\n",
       "    </tr>\n",
       "    <tr>\n",
       "      <th>min</th>\n",
       "      <td>0.000000</td>\n",
       "      <td>-3.467884</td>\n",
       "    </tr>\n",
       "    <tr>\n",
       "      <th>25%</th>\n",
       "      <td>27.000000</td>\n",
       "      <td>25.676502</td>\n",
       "    </tr>\n",
       "    <tr>\n",
       "      <th>50%</th>\n",
       "      <td>53.000000</td>\n",
       "      <td>52.170557</td>\n",
       "    </tr>\n",
       "    <tr>\n",
       "      <th>75%</th>\n",
       "      <td>73.000000</td>\n",
       "      <td>74.303007</td>\n",
       "    </tr>\n",
       "    <tr>\n",
       "      <th>max</th>\n",
       "      <td>100.000000</td>\n",
       "      <td>105.591837</td>\n",
       "    </tr>\n",
       "  </tbody>\n",
       "</table>\n",
       "</div>"
      ],
      "text/plain": [
       "                x           y\n",
       "count  300.000000  300.000000\n",
       "mean    50.936667   51.205051\n",
       "std     28.504286   29.071481\n",
       "min      0.000000   -3.467884\n",
       "25%     27.000000   25.676502\n",
       "50%     53.000000   52.170557\n",
       "75%     73.000000   74.303007\n",
       "max    100.000000  105.591837"
      ]
     },
     "execution_count": 3,
     "metadata": {},
     "output_type": "execute_result"
    }
   ],
   "source": [
    "mean = data.mean()\n",
    "print(mean)\n",
    "describe = data.describe()\n",
    "describe"
   ]
  },
  {
   "cell_type": "code",
   "execution_count": 4,
   "id": "d95949c5",
   "metadata": {},
   "outputs": [
    {
     "data": {
      "text/plain": [
       "[Text(0.5, 1.0, 'X-Y plot')]"
      ]
     },
     "execution_count": 4,
     "metadata": {},
     "output_type": "execute_result"
    },
    {
     "data": {
      "image/png": "[encoded data removed]",
      "text/plain": [
       "<Figure size 432x288 with 1 Axes>"
      ]
     },
     "metadata": {
      "needs_background": "light"
     },
     "output_type": "display_data"
    }
   ],
   "source": [
    "sns.scatterplot(x=data['x'] , y=data['y']).set(title=\"X-Y plot\")"
   ]
  },
  {
   "cell_type": "code",
   "execution_count": 5,
   "id": "ca1854d0",
   "metadata": {},
   "outputs": [],
   "source": [
    "X = data['x']\n",
    "Y = data['y']"
   ]
  },
  {
   "cell_type": "code",
   "execution_count": 6,
   "id": "2915e8a3",
   "metadata": {},
   "outputs": [
    {
     "name": "stdout",
     "output_type": "stream",
     "text": [
      "0      77\n",
      "1      21\n",
      "2      22\n",
      "3      20\n",
      "4      36\n",
      "       ..\n",
      "295    71\n",
      "296    46\n",
      "297    55\n",
      "298    62\n",
      "299    47\n",
      "Name: x, Length: 300, dtype: int64\n",
      "(300,)\n",
      "1\n"
     ]
    }
   ],
   "source": [
    "print(X)\n",
    "print(X.shape)\n",
    "print(X.ndim)"
   ]
  },
  {
   "cell_type": "code",
   "execution_count": 7,
   "id": "7387fc9f",
   "metadata": {},
   "outputs": [
    {
     "data": {
      "text/plain": [
       "array([[  1.,  77.],\n",
       "       [  1.,  21.],\n",
       "       [  1.,  22.],\n",
       "       [  1.,  20.],\n",
       "       [  1.,  36.],\n",
       "       [  1.,  15.],\n",
       "       [  1.,  62.],\n",
       "       [  1.,  95.],\n",
       "       [  1.,  20.],\n",
       "       [  1.,   5.],\n",
       "       [  1.,   4.],\n",
       "       [  1.,  19.],\n",
       "       [  1.,  96.],\n",
       "       [  1.,  62.],\n",
       "       [  1.,  36.],\n",
       "       [  1.,  15.],\n",
       "       [  1.,  65.],\n",
       "       [  1.,  14.],\n",
       "       [  1.,  87.],\n",
       "       [  1.,  69.],\n",
       "       [  1.,  89.],\n",
       "       [  1.,  51.],\n",
       "       [  1.,  89.],\n",
       "       [  1.,  27.],\n",
       "       [  1.,  97.],\n",
       "       [  1.,  58.],\n",
       "       [  1.,  79.],\n",
       "       [  1.,  21.],\n",
       "       [  1.,  93.],\n",
       "       [  1.,  27.],\n",
       "       [  1.,  99.],\n",
       "       [  1.,  31.],\n",
       "       [  1.,  33.],\n",
       "       [  1.,  80.],\n",
       "       [  1.,  28.],\n",
       "       [  1.,  47.],\n",
       "       [  1.,  53.],\n",
       "       [  1.,  69.],\n",
       "       [  1.,  28.],\n",
       "       [  1.,  33.],\n",
       "       [  1.,  91.],\n",
       "       [  1.,  71.],\n",
       "       [  1.,  50.],\n",
       "       [  1.,  76.],\n",
       "       [  1.,   4.],\n",
       "       [  1.,  37.],\n",
       "       [  1.,  70.],\n",
       "       [  1.,  68.],\n",
       "       [  1.,  40.],\n",
       "       [  1.,  35.],\n",
       "       [  1.,  94.],\n",
       "       [  1.,  88.],\n",
       "       [  1.,  52.],\n",
       "       [  1.,  31.],\n",
       "       [  1.,  59.],\n",
       "       [  1.,   0.],\n",
       "       [  1.,  39.],\n",
       "       [  1.,  64.],\n",
       "       [  1.,  69.],\n",
       "       [  1.,  57.],\n",
       "       [  1.,  13.],\n",
       "       [  1.,  72.],\n",
       "       [  1.,  76.],\n",
       "       [  1.,  61.],\n",
       "       [  1.,  82.],\n",
       "       [  1.,  18.],\n",
       "       [  1.,  41.],\n",
       "       [  1.,  50.],\n",
       "       [  1.,  55.],\n",
       "       [  1.,  13.],\n",
       "       [  1.,  46.],\n",
       "       [  1.,  13.],\n",
       "       [  1.,  79.],\n",
       "       [  1.,  53.],\n",
       "       [  1.,  15.],\n",
       "       [  1.,  28.],\n",
       "       [  1.,  81.],\n",
       "       [  1.,  69.],\n",
       "       [  1.,  52.],\n",
       "       [  1.,  84.],\n",
       "       [  1.,  68.],\n",
       "       [  1.,  27.],\n",
       "       [  1.,  56.],\n",
       "       [  1.,  48.],\n",
       "       [  1.,  40.],\n",
       "       [  1.,  39.],\n",
       "       [  1.,  82.],\n",
       "       [  1., 100.],\n",
       "       [  1.,  59.],\n",
       "       [  1.,  43.],\n",
       "       [  1.,  67.],\n",
       "       [  1.,  38.],\n",
       "       [  1.,  63.],\n",
       "       [  1.,  91.],\n",
       "       [  1.,  60.],\n",
       "       [  1.,  14.],\n",
       "       [  1.,  21.],\n",
       "       [  1.,  87.],\n",
       "       [  1.,  73.],\n",
       "       [  1.,  32.],\n",
       "       [  1.,   2.],\n",
       "       [  1.,  82.],\n",
       "       [  1.,  19.],\n",
       "       [  1.,  74.],\n",
       "       [  1.,  42.],\n",
       "       [  1.,  12.],\n",
       "       [  1.,   1.],\n",
       "       [  1.,  90.],\n",
       "       [  1.,  89.],\n",
       "       [  1.,   0.],\n",
       "       [  1.,  41.],\n",
       "       [  1.,  16.],\n",
       "       [  1.,  94.],\n",
       "       [  1.,  97.],\n",
       "       [  1.,  66.],\n",
       "       [  1.,  24.],\n",
       "       [  1.,  17.],\n",
       "       [  1.,  90.],\n",
       "       [  1.,  13.],\n",
       "       [  1.,   0.],\n",
       "       [  1.,  64.],\n",
       "       [  1.,  96.],\n",
       "       [  1.,  98.],\n",
       "       [  1.,  12.],\n",
       "       [  1.,  41.],\n",
       "       [  1.,  47.],\n",
       "       [  1.,  78.],\n",
       "       [  1.,  20.],\n",
       "       [  1.,  89.],\n",
       "       [  1.,  29.],\n",
       "       [  1.,  64.],\n",
       "       [  1.,  75.],\n",
       "       [  1.,  12.],\n",
       "       [  1.,  25.],\n",
       "       [  1.,  28.],\n",
       "       [  1.,  30.],\n",
       "       [  1.,  65.],\n",
       "       [  1.,  59.],\n",
       "       [  1.,  64.],\n",
       "       [  1.,  53.],\n",
       "       [  1.,  71.],\n",
       "       [  1.,  97.],\n",
       "       [  1.,  73.],\n",
       "       [  1.,   9.],\n",
       "       [  1.,  12.],\n",
       "       [  1.,  63.],\n",
       "       [  1.,  99.],\n",
       "       [  1.,  60.],\n",
       "       [  1.,  35.],\n",
       "       [  1.,   2.],\n",
       "       [  1.,  60.],\n",
       "       [  1.,  32.],\n",
       "       [  1.,  94.],\n",
       "       [  1.,  84.],\n",
       "       [  1.,  63.],\n",
       "       [  1.,  22.],\n",
       "       [  1.,  81.],\n",
       "       [  1.,  93.],\n",
       "       [  1.,  33.],\n",
       "       [  1.,   7.],\n",
       "       [  1.,  42.],\n",
       "       [  1.,  46.],\n",
       "       [  1.,  54.],\n",
       "       [  1.,  16.],\n",
       "       [  1.,  49.],\n",
       "       [  1.,  43.],\n",
       "       [  1.,  95.],\n",
       "       [  1.,  66.],\n",
       "       [  1.,  21.],\n",
       "       [  1.,  35.],\n",
       "       [  1.,  80.],\n",
       "       [  1.,  37.],\n",
       "       [  1.,  54.],\n",
       "       [  1.,  56.],\n",
       "       [  1.,   1.],\n",
       "       [  1.,  32.],\n",
       "       [  1.,  58.],\n",
       "       [  1.,  32.],\n",
       "       [  1.,  46.],\n",
       "       [  1.,  72.],\n",
       "       [  1.,  17.],\n",
       "       [  1.,  97.],\n",
       "       [  1.,  93.],\n",
       "       [  1.,  91.],\n",
       "       [  1.,  37.],\n",
       "       [  1.,   4.],\n",
       "       [  1.,  54.],\n",
       "       [  1.,  51.],\n",
       "       [  1.,  27.],\n",
       "       [  1.,  46.],\n",
       "       [  1.,  92.],\n",
       "       [  1.,  73.],\n",
       "       [  1.,  77.],\n",
       "       [  1.,  91.],\n",
       "       [  1.,  61.],\n",
       "       [  1.,  99.],\n",
       "       [  1.,   4.],\n",
       "       [  1.,  72.],\n",
       "       [  1.,  19.],\n",
       "       [  1.,  57.],\n",
       "       [  1.,  78.],\n",
       "       [  1.,  26.],\n",
       "       [  1.,  74.],\n",
       "       [  1.,  90.],\n",
       "       [  1.,  66.],\n",
       "       [  1.,  13.],\n",
       "       [  1.,  40.],\n",
       "       [  1.,  77.],\n",
       "       [  1.,  67.],\n",
       "       [  1.,  75.],\n",
       "       [  1.,  23.],\n",
       "       [  1.,  45.],\n",
       "       [  1.,  59.],\n",
       "       [  1.,  44.],\n",
       "       [  1.,  23.],\n",
       "       [  1.,  55.],\n",
       "       [  1.,  55.],\n",
       "       [  1.,  95.],\n",
       "       [  1.,  12.],\n",
       "       [  1.,   4.],\n",
       "       [  1.,   7.],\n",
       "       [  1., 100.],\n",
       "       [  1.,  48.],\n",
       "       [  1.,  42.],\n",
       "       [  1.,  96.],\n",
       "       [  1.,  39.],\n",
       "       [  1., 100.],\n",
       "       [  1.,  87.],\n",
       "       [  1.,  14.],\n",
       "       [  1.,  14.],\n",
       "       [  1.,  37.],\n",
       "       [  1.,   5.],\n",
       "       [  1.,  88.],\n",
       "       [  1.,  91.],\n",
       "       [  1.,  65.],\n",
       "       [  1.,  74.],\n",
       "       [  1.,  56.],\n",
       "       [  1.,  16.],\n",
       "       [  1.,   5.],\n",
       "       [  1.,  28.],\n",
       "       [  1.,  92.],\n",
       "       [  1.,  46.],\n",
       "       [  1.,  54.],\n",
       "       [  1.,  39.],\n",
       "       [  1.,  44.],\n",
       "       [  1.,  31.],\n",
       "       [  1.,  68.],\n",
       "       [  1.,  86.],\n",
       "       [  1.,  90.],\n",
       "       [  1.,  38.],\n",
       "       [  1.,  21.],\n",
       "       [  1.,  95.],\n",
       "       [  1.,  56.],\n",
       "       [  1.,  60.],\n",
       "       [  1.,  65.],\n",
       "       [  1.,  78.],\n",
       "       [  1.,  89.],\n",
       "       [  1.,   6.],\n",
       "       [  1.,  67.],\n",
       "       [  1.,  36.],\n",
       "       [  1.,  16.],\n",
       "       [  1., 100.],\n",
       "       [  1.,  45.],\n",
       "       [  1.,  73.],\n",
       "       [  1.,  57.],\n",
       "       [  1.,  20.],\n",
       "       [  1.,  76.],\n",
       "       [  1.,  34.],\n",
       "       [  1.,  55.],\n",
       "       [  1.,  72.],\n",
       "       [  1.,  55.],\n",
       "       [  1.,   8.],\n",
       "       [  1.,  56.],\n",
       "       [  1.,  72.],\n",
       "       [  1.,  58.],\n",
       "       [  1.,   6.],\n",
       "       [  1.,  96.],\n",
       "       [  1.,  23.],\n",
       "       [  1.,  58.],\n",
       "       [  1.,  23.],\n",
       "       [  1.,  19.],\n",
       "       [  1.,  25.],\n",
       "       [  1.,  64.],\n",
       "       [  1.,  21.],\n",
       "       [  1.,  59.],\n",
       "       [  1.,  19.],\n",
       "       [  1.,  16.],\n",
       "       [  1.,  42.],\n",
       "       [  1.,  43.],\n",
       "       [  1.,  61.],\n",
       "       [  1.,  92.],\n",
       "       [  1.,  11.],\n",
       "       [  1.,  41.],\n",
       "       [  1.,   1.],\n",
       "       [  1.,   8.],\n",
       "       [  1.,  71.],\n",
       "       [  1.,  46.],\n",
       "       [  1.,  55.],\n",
       "       [  1.,  62.],\n",
       "       [  1.,  47.]])"
      ]
     },
     "execution_count": 7,
     "metadata": {},
     "output_type": "execute_result"
    }
   ],
   "source": [
    "X = np.stack((np.ones(300),X ), axis=1)\n",
    "X"
   ]
  },
  {
   "cell_type": "code",
   "execution_count": 8,
   "id": "6b24ca4d",
   "metadata": {},
   "outputs": [
    {
     "name": "stdout",
     "output_type": "stream",
     "text": [
      "(300, 2)\n",
      "2\n"
     ]
    }
   ],
   "source": [
    "print(X.shape)\n",
    "print(X.ndim)"
   ]
  },
  {
   "cell_type": "code",
   "execution_count": 9,
   "id": "1902bf9b",
   "metadata": {},
   "outputs": [],
   "source": [
    "def predict(X ,  theta):\n",
    "    y_hat = np.dot(X , theta)\n",
    "    return y_hat"
   ]
  },
  {
   "cell_type": "code",
   "execution_count": 10,
   "id": "b933c408",
   "metadata": {},
   "outputs": [
    {
     "data": {
      "text/plain": [
       "array([0., 0., 0., 0., 0., 0., 0., 0., 0., 0., 0., 0., 0., 0., 0., 0., 0.,\n",
       "       0., 0., 0., 0., 0., 0., 0., 0., 0., 0., 0., 0., 0., 0., 0., 0., 0.,\n",
       "       0., 0., 0., 0., 0., 0., 0., 0., 0., 0., 0., 0., 0., 0., 0., 0., 0.,\n",
       "       0., 0., 0., 0., 0., 0., 0., 0., 0., 0., 0., 0., 0., 0., 0., 0., 0.,\n",
       "       0., 0., 0., 0., 0., 0., 0., 0., 0., 0., 0., 0., 0., 0., 0., 0., 0.,\n",
       "       0., 0., 0., 0., 0., 0., 0., 0., 0., 0., 0., 0., 0., 0., 0., 0., 0.,\n",
       "       0., 0., 0., 0., 0., 0., 0., 0., 0., 0., 0., 0., 0., 0., 0., 0., 0.,\n",
       "       0., 0., 0., 0., 0., 0., 0., 0., 0., 0., 0., 0., 0., 0., 0., 0., 0.,\n",
       "       0., 0., 0., 0., 0., 0., 0., 0., 0., 0., 0., 0., 0., 0., 0., 0., 0.,\n",
       "       0., 0., 0., 0., 0., 0., 0., 0., 0., 0., 0., 0., 0., 0., 0., 0., 0.,\n",
       "       0., 0., 0., 0., 0., 0., 0., 0., 0., 0., 0., 0., 0., 0., 0., 0., 0.,\n",
       "       0., 0., 0., 0., 0., 0., 0., 0., 0., 0., 0., 0., 0., 0., 0., 0., 0.,\n",
       "       0., 0., 0., 0., 0., 0., 0., 0., 0., 0., 0., 0., 0., 0., 0., 0., 0.,\n",
       "       0., 0., 0., 0., 0., 0., 0., 0., 0., 0., 0., 0., 0., 0., 0., 0., 0.,\n",
       "       0., 0., 0., 0., 0., 0., 0., 0., 0., 0., 0., 0., 0., 0., 0., 0., 0.,\n",
       "       0., 0., 0., 0., 0., 0., 0., 0., 0., 0., 0., 0., 0., 0., 0., 0., 0.,\n",
       "       0., 0., 0., 0., 0., 0., 0., 0., 0., 0., 0., 0., 0., 0., 0., 0., 0.,\n",
       "       0., 0., 0., 0., 0., 0., 0., 0., 0., 0., 0.])"
      ]
     },
     "execution_count": 10,
     "metadata": {},
     "output_type": "execute_result"
    }
   ],
   "source": [
    "pred = predict(X , theta=np.zeros(2))\n",
    "pred"
   ]
  },
  {
   "cell_type": "code",
   "execution_count": 11,
   "id": "3a56a82a",
   "metadata": {},
   "outputs": [
    {
     "data": {
      "text/plain": [
       "300"
      ]
     },
     "execution_count": 11,
     "metadata": {},
     "output_type": "execute_result"
    }
   ],
   "source": [
    "m = len(Y)\n",
    "m"
   ]
  },
  {
   "cell_type": "code",
   "execution_count": 12,
   "id": "c1f038a8",
   "metadata": {},
   "outputs": [],
   "source": [
    "def predict_cost(X , Y , theta):\n",
    "    m = len(Y)\n",
    "    SE = (predict(X,theta) - Y)**2 #square error\n",
    "    SSE = np.sum(SE) # sum of squared error\n",
    "    MSE = SSE/(2*m) # mean squared error\n",
    "    \n",
    "    return MSE"
   ]
  },
  {
   "cell_type": "code",
   "execution_count": 13,
   "id": "c867a166",
   "metadata": {},
   "outputs": [
    {
     "data": {
      "text/plain": [
       "1732.1455435695395"
      ]
     },
     "execution_count": 13,
     "metadata": {},
     "output_type": "execute_result"
    }
   ],
   "source": [
    "cost = predict_cost(X,Y , np.zeros(2))\n",
    "cost"
   ]
  },
  {
   "cell_type": "markdown",
   "id": "b8df4bc5",
   "metadata": {},
   "source": [
    "## Model Building using gradient descent"
   ]
  },
  {
   "cell_type": "code",
   "execution_count": 14,
   "id": "e48a6c38",
   "metadata": {},
   "outputs": [],
   "source": [
    "def Gradient_Descent(X , Y , theta, alpha , iteration):\n",
    "    m = len(Y)\n",
    "    cose_history = []\n",
    "    theta = theta.copy()\n",
    "    # cost minimization\n",
    "    for i in range(iteration):\n",
    "        diff = predict(X , theta) - Y\n",
    "        theta = theta - alpha*(np.dot(diff , X))/m\n",
    "        cose_history.append(predict_cost(X , Y , theta))\n",
    "    \n",
    "    return theta , cose_history\n"
   ]
  },
  {
   "cell_type": "code",
   "execution_count": 15,
   "id": "e9655fa5",
   "metadata": {},
   "outputs": [
    {
     "name": "stdout",
     "output_type": "stream",
     "text": [
      "[0.01450438 1.00720805]\n"
     ]
    }
   ],
   "source": [
    "# train our model\n",
    "theta = np.zeros(2)\n",
    "alpha = 0.00001\n",
    "iteration = 500\n",
    "theta_ , cost_history = Gradient_Descent(X , Y , theta , alpha , iteration)\n",
    "print(theta_)"
   ]
  },
  {
   "cell_type": "markdown",
   "id": "c87fd086",
   "metadata": {},
   "source": [
    "## Plot of cost function v/s iterration"
   ]
  },
  {
   "cell_type": "code",
   "execution_count": 16,
   "id": "de88c212",
   "metadata": {},
   "outputs": [
    {
     "data": {
      "text/plain": [
       "Text(0.5, 1.0, 'Values of Cost Function over iterations of Gradient Descent')"
      ]
     },
     "execution_count": 16,
     "metadata": {},
     "output_type": "execute_result"
    },
    {
     "data": {
      "image/png": "[encoded data removed]",
      "text/plain": [
       "<Figure size 432x288 with 1 Axes>"
      ]
     },
     "metadata": {
      "needs_background": "light"
     },
     "output_type": "display_data"
    }
   ],
   "source": [
    "plt.plot(cost_history)\n",
    "plt.xlabel(\"Iterations\")\n",
    "plt.ylabel(\"$J(\\Theta)$\")\n",
    "plt.title(\"Values of Cost Function over iterations of Gradient Descent\")\n",
    "#plt.show()"
   ]
  },
  {
   "cell_type": "markdown",
   "id": "aa512751",
   "metadata": {},
   "source": [
    "## Plot of regression line"
   ]
  },
  {
   "cell_type": "code",
   "execution_count": 17,
   "id": "ce46b5bb",
   "metadata": {},
   "outputs": [
    {
     "data": {
      "text/plain": [
       "<matplotlib.legend.Legend at 0x2abc5e09850>"
      ]
     },
     "execution_count": 17,
     "metadata": {},
     "output_type": "execute_result"
    },
    {
     "data": {
      "image/png": "[encoded data removed]",
      "text/plain": [
       "<Figure size 432x288 with 1 Axes>"
      ]
     },
     "metadata": {
      "needs_background": "light"
     },
     "output_type": "display_data"
    }
   ],
   "source": [
    "sns.scatterplot(x=X[: , 1] , y=Y)\n",
    "plt.plot(\n",
    "    X[:, 1], np.dot(X, theta_), \"-\"\n",
    ")  \n",
    "plt.legend([\"Linear regression\",\"Training data\"])\n"
   ]
  },
  {
   "cell_type": "code",
   "execution_count": null,
   "id": "7c62b311",
   "metadata": {},
   "outputs": [],
   "source": []
  }
 ],
 "metadata": {
  "kernelspec": {
   "display_name": "Python 3",
   "language": "python",
   "name": "python3"
  },
  "language_info": {
   "codemirror_mode": {
    "name": "ipython",
    "version": 3
   },
   "file_extension": ".py",
   "mimetype": "text/x-python",
   "name": "python",
   "nbconvert_exporter": "python",
   "pygments_lexer": "ipython3",
   "version": "3.9.1"
  }
 },
 "nbformat": 4,
 "nbformat_minor": 5
}
